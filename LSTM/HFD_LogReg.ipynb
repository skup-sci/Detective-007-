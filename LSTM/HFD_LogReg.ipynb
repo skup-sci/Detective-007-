{
 "cells": [
  {
   "cell_type": "code",
   "execution_count": 4,
   "id": "1dc4e247",
   "metadata": {},
   "outputs": [],
   "source": [
    "import numpy as np\n",
    "import pandas as pd\n",
    "import matplotlib.pyplot as plt"
   ]
  },
  {
   "cell_type": "code",
   "execution_count": 5,
   "id": "ccf92a17",
   "metadata": {},
   "outputs": [],
   "source": [
    "fake_news=pd.read_csv('Data/fake_news_basic.csv')\n",
    "true_news=pd.read_csv('Data/true_news_basic.csv')"
   ]
  },
  {
   "cell_type": "code",
   "execution_count": 6,
   "id": "f5a97a33",
   "metadata": {},
   "outputs": [
    {
     "name": "stdout",
     "output_type": "stream",
     "text": [
      "Length of fake news:  760\n",
      "Length of true news:  760\n"
     ]
    }
   ],
   "source": [
    "# make both length equal\n",
    "if len(fake_news) > len(true_news):\n",
    "  fake_news = fake_news.head(len(true_news))\n",
    "elif len(true_news) > len(fake_news):\n",
    "  true_news = true_news.head(len(fake_news))\n",
    "print(\"Length of fake news: \", len(fake_news))\n",
    "print(\"Length of true news: \", len(true_news))"
   ]
  },
  {
   "cell_type": "code",
   "execution_count": 7,
   "id": "6d89f71e",
   "metadata": {},
   "outputs": [
    {
     "data": {
      "text/plain": [
       "1520"
      ]
     },
     "execution_count": 7,
     "metadata": {},
     "output_type": "execute_result"
    }
   ],
   "source": [
    "true_news['label']=1\n",
    "fake_news['label']=0\n",
    "news = pd.concat([fake_news, true_news])\n",
    "#df=pd.DataFrame(news)\n",
    "#df.to_csv(\"news.csv\")\n",
    "len(news)"
   ]
  },
  {
   "cell_type": "code",
   "execution_count": 8,
   "id": "30fffc72",
   "metadata": {},
   "outputs": [],
   "source": [
    "input_array=np.array(news['short_description'])"
   ]
  },
  {
   "cell_type": "code",
   "execution_count": 9,
   "id": "84f2a697",
   "metadata": {},
   "outputs": [],
   "source": [
    "# stopwords\n",
    "hindi =[\n",
    " 'अत','अपना','अपनी','अपने','अभी','अंदर','आदि','आप','इत्यादि','इन','इनका','इन्हीं','इन्हें','इन्हों','इस','इसका','इसकी','इसके','इसमें',\n",
    "'इसी','इसे','उन','उनका','उनकी','उनके','उनको','उन्हीं','उन्हें','उन्हों','उस','उसके','उसी','उसे','एक','एवं','एस','ऐसे','और','कई',\n",
    "'कर','करता','करते','करना','करने','करें','कहते','कहा','का','काफ़ी','कि','कितना','किन्हें','किन्हों','किया','किर','किस','किसी','किसे','की',\n",
    "'कुछ','कुल','के','को','कोई','कौन','कौन','बही','बहुत','बाद','बाला','बिलकुल','भी','भीतर','मगर','मानो','मे','में','यदि','यह','यहाँ','यही',\n",
    "'या','यिह','ये','रखें','रहा','रहे','ऱ्वासा','लिए','लिये','लेकिन','व','वग़ैरह','वर्ग','वह','वहाँ','वहीं','वाले','वुह','वे','सकता','सकते','सबसे',\n",
    "'सभी','साथ','साबुत','साभ','सारा','से','सो','संग','ही','हुआ','हुई','हुए','है','हैं','हो','होता','होती','होते','होना','होने']"
   ]
  },
  {
   "cell_type": "code",
   "execution_count": 10,
   "id": "1c954d0c",
   "metadata": {},
   "outputs": [
    {
     "data": {
      "text/plain": [
       "['बूम पाय इमरान खान भारत सरकार आलोच रह वर्तमान शासन अधिनायकवाद मुस्लिम विरोध पाकिस्तान',\n",
       " 'सिख समुदाय लोग हिंद साइन बोर्ड कालिख पोत दिख तस्वीर सेट वीडिय वायरल रह',\n",
       " 'सोशल मीडिय प्लेटफ़ॉर्म फ़ेसबुक ट्विटर दाव बड़ संख्य तस्वीर पोस्ट शेयर किय रह है।',\n",
       " 'दाव भाजप मा सरकार जन गलत रह ।',\n",
       " 'मीडिय आउटलेट्स वायर एजेंस गलत तरीक दाव किय पाकिस्तान पूर्व राजनयिक बालाकोट मौत',\n",
       " 'यूज़र्स तस्वीर शेयर दाव रह तस्वीर पुरा दिल्ल रेलव स्टेशन प्लेटफ़ॉर्म बन मस्जिद',\n",
       " 'बूम पाय मूल तस्वीर साल 2014 अमित शाह प्रधानमंत्र नरेंद्र मोद बध दे रह थे।',\n",
       " 'बूम पाय वायरल तस्वीर साल 2018 उत्तर प्रदेश उन्नाव हत्य है।',\n",
       " 'दाव कोविड-19 टीक लिंग लग वायरस जल्द राहत मिल',\n",
       " 'दाव वायरल ब्रिटेन प्रधानमंत्र किसान आंदोलन कारण भारत दौर रद्द किय']"
      ]
     },
     "execution_count": 10,
     "metadata": {},
     "output_type": "execute_result"
    }
   ],
   "source": [
    "import re\n",
    "import nltk\n",
    "# ltk.download('stopwords')\n",
    "from nltk.corpus import stopwords\n",
    "from nltk.stem.porter import PorterStemmer\n",
    "corpus = []\n",
    "for i in range(0, 1520):\n",
    "    review = input_array[i]\n",
    "    review = review.split()\n",
    "    ps = PorterStemmer()\n",
    "    review = [ps.stem(word) for word in review if not word in set(hindi)]\n",
    "    review = ' '.join(review)\n",
    "    corpus.append(review)\n",
    "corpus[:10]"
   ]
  },
  {
   "cell_type": "code",
   "execution_count": 11,
   "id": "934c7e8d",
   "metadata": {},
   "outputs": [
    {
     "name": "stdout",
     "output_type": "stream",
     "text": [
      "<class 'list'>\n"
     ]
    }
   ],
   "source": [
    "print(type(corpus))"
   ]
  },
  {
   "cell_type": "code",
   "execution_count": 12,
   "id": "f520e634",
   "metadata": {},
   "outputs": [
    {
     "data": {
      "text/plain": [
       "array([0, 0, 0, ..., 1, 1, 1], dtype=int64)"
      ]
     },
     "execution_count": 12,
     "metadata": {},
     "output_type": "execute_result"
    }
   ],
   "source": [
    "from sklearn.feature_extraction.text import CountVectorizer\n",
    "cv = CountVectorizer(max_features = 5000)\n",
    "X = cv.fit_transform(corpus).toarray()\n",
    "y = news.iloc[0:1520, -1].values\n",
    "y"
   ]
  },
  {
   "cell_type": "code",
   "execution_count": 13,
   "id": "365ee009",
   "metadata": {},
   "outputs": [],
   "source": [
    "from sklearn.model_selection import train_test_split\n",
    "X_train, X_test, y_train, y_test = train_test_split(X, y, test_size = 0.20, random_state = 0)"
   ]
  },
  {
   "cell_type": "code",
   "execution_count": 14,
   "id": "27717729",
   "metadata": {},
   "outputs": [
    {
     "data": {
      "text/plain": [
       "(1216, 1216, 304, 304)"
      ]
     },
     "execution_count": 14,
     "metadata": {},
     "output_type": "execute_result"
    }
   ],
   "source": [
    "len(X_train),len(y_train),len(X_test),len(y_test)"
   ]
  },
  {
   "cell_type": "code",
   "execution_count": 15,
   "id": "619e7f61",
   "metadata": {},
   "outputs": [],
   "source": [
    "# Printer\n",
    "def printer(name):\n",
    "    ax= plt.subplot()\n",
    "    confusion_matrix = pd.crosstab(y_test,y_predR, rownames=['Actual'], colnames=['Predicted'])\n",
    "    sn.heatmap(confusion_matrix, annot=True)\n",
    "    name = 'Confusion Matrix - ' + name\n",
    "    ax.set_title(name, size=16)\n",
    "    plt.savefig('2-confusion matrix.jpg',bbox_inches = 'tight',transparent=True)\n",
    "    plt.show()\n",
    "    ax= plt.subplot()\n",
    "    confusion_matrix = pd.crosstab(y_test,y_predR, rownames=['Actual'], colnames=['Predicted'], margins = True)\n",
    "    ax.set_title(name, size=16)\n",
    "    sn.heatmap(confusion_matrix, annot=True)\n",
    "    plt.savefig('3-confusion matrix.jpg',bbox_inches = 'tight',transparent=True)\n",
    "    plt.show()\n",
    "    probs = model.predict_proba(X_test)  \n",
    "    probs = probs[:, 1]  \n",
    "    fper, tper, thresholds = roc_curve(y_test, probs) \n",
    "    auc = roc_auc_score(y_test,probs)\n",
    "    print(auc)\n",
    "    plt.plot(fper, tper, color='orange', label='ROC')\n",
    "    plt.plot([0, 1], [0, 1], color='darkblue', linestyle='--')\n",
    "    plt.xlabel('False Positive Rate')\n",
    "    plt.ylabel('True Positive Rate')\n",
    "    plt.title('Receiver Operating Characteristic (ROC) Curve')\n",
    "    plt.legend()\n",
    "    plt.savefig('roc curve.jpg',bbox_inches = 'tight',transparent=True)\n",
    "    plt.show()"
   ]
  },
  {
   "cell_type": "code",
   "execution_count": 16,
   "id": "89d8166a",
   "metadata": {},
   "outputs": [
    {
     "name": "stdout",
     "output_type": "stream",
     "text": [
      "[0 1 0 0 0 0 1 0 0 0 1 0 1 0 1 0 1 1 1 1 0 0 1 0 0 0 0 0 1 0 1 1 1 1 1 0 1\n",
      " 1 1 0 0 0 0 1 1 1 1 1 1 0 0 0 0 0 1 1 0 1 1 1 0 1 0 0 0 1 1 1 1 1 0 0 1 1\n",
      " 1 0 0 0 0 0 0 0 0 0 1 0 1 0 0 1 0 1 0 0 1 1 0 1 1 1 0 1 0 0 1 1 1 1 0 1 1\n",
      " 0 1 1 1 0 0 0 0 1 0 0 0 1 1 0 1 1 0 1 0 1 0 1 0 1 0 1 1 0 0 0 0 1 0 0 0 1\n",
      " 0 1 1 1 1 0 1 0 1 1 0 0 0 0 1 0 1 1 0 1 0 0 1 1 0 1 1 1 0 0 1 1 1 1 1 1 0\n",
      " 0 1 1 1 1 0 0 0 0 0 0 0 0 1 1 1 0 0 0 1 0 1 1 1 0 0 0 1 0 0 0 0 0 1 0 1 0\n",
      " 1 1 0 1 1 0 1 0 1 0 0 0 1 0 0 0 1 1 0 1 0 1 1 1 1 1 0 1 0 1 0 0 0 1 1 0 0\n",
      " 1 1 0 0 0 0 0 1 0 1 0 1 1 0 1 0 1 0 1 0 0 1 1 1 1 1 0 0 0 1 0 0 0 0 0 0 0\n",
      " 1 1 1 1 1 1 1 1]\n",
      "[1 0 0 0 0 0 0 0 0 0 0 0 1 0 1 0 1 1 0 0 0 0 1 0 0 0 0 0 1 0 0 1 1 1 1 0 1\n",
      " 1 1 1 1 0 1 0 1 1 1 1 1 0 1 0 1 0 1 1 0 1 1 1 0 0 0 1 0 1 0 1 0 0 0 1 1 1\n",
      " 1 0 0 0 0 0 1 0 0 0 1 1 1 0 0 1 0 0 0 0 1 1 0 1 1 1 0 1 0 0 1 1 1 1 1 1 1\n",
      " 0 1 1 1 1 0 0 0 1 0 0 0 0 1 0 0 1 0 1 0 1 0 0 0 1 0 0 1 0 0 0 0 1 0 0 0 1\n",
      " 0 1 1 1 1 0 1 0 1 1 0 1 1 0 1 0 0 0 0 0 0 0 1 1 0 1 0 0 1 1 1 1 0 1 1 1 0\n",
      " 0 1 0 1 1 0 0 0 0 0 0 0 0 1 1 1 0 0 0 1 0 1 1 1 0 0 0 1 0 1 0 0 0 1 0 1 0\n",
      " 1 1 0 1 1 0 1 0 1 0 0 0 1 0 0 1 0 1 0 1 0 1 1 1 1 1 0 1 0 1 0 1 0 1 0 0 0\n",
      " 0 1 0 0 0 0 1 0 1 1 0 0 1 0 1 0 1 0 1 0 0 1 1 1 1 0 0 0 0 1 0 0 0 0 0 0 0\n",
      " 1 1 1 1 1 1 1 1]\n",
      "0.8355263157894737\n",
      "[[134  29]\n",
      " [ 21 120]]\n",
      "[-0.15131579 -0.18421053 -0.19407895 -0.15789474 -0.15131579]\n",
      "Mean Absolute Error 0.167763\n",
      "Classification report : \n",
      "               precision    recall  f1-score   support\n",
      "\n",
      "           1       0.81      0.85      0.83       141\n",
      "           0       0.86      0.82      0.84       163\n",
      "\n",
      "    accuracy                           0.84       304\n",
      "   macro avg       0.83      0.84      0.84       304\n",
      "weighted avg       0.84      0.84      0.84       304\n",
      "\n"
     ]
    }
   ],
   "source": [
    "from sklearn.linear_model import LogisticRegression\n",
    "classifier1 = LogisticRegression(random_state = 0)\n",
    "model = classifier1.fit(X_train, y_train)\n",
    "\n",
    "# Predicting the Test set results\n",
    "y_predL = classifier1.predict(X_test)\n",
    "print(y_predL)\n",
    "print(y_test)\n",
    "\n",
    "# Making the Confusion Matrix\n",
    "from sklearn.metrics import confusion_matrix\n",
    "cm1 = confusion_matrix(y_test, y_predL)\n",
    "from sklearn.metrics import accuracy_score\n",
    "score_lr = accuracy_score(y_test,y_predL)\n",
    "\n",
    "print(score_lr)\n",
    "print(cm1)\n",
    "\n",
    "from sklearn.pipeline import make_pipeline\n",
    "from sklearn.impute import SimpleImputer\n",
    "imputer = SimpleImputer(missing_values=np.nan, strategy='mean')\n",
    "my_pipeline = make_pipeline(imputer, LogisticRegression())\n",
    "\n",
    "from sklearn.model_selection import cross_val_score\n",
    "scores = cross_val_score(my_pipeline, X, y, scoring='neg_mean_absolute_error')\n",
    "print(scores)\n",
    "print('Mean Absolute Error %2f' %(-1 * scores.mean()))\n",
    "\n",
    "# classification report for precision, recall f1-score and accuracy\n",
    "from sklearn.metrics import classification_report\n",
    "matrix = classification_report(y_test,y_predL,labels=[1,0])\n",
    "print('Classification report : \\n',matrix)\n"
   ]
  },
  {
   "cell_type": "code",
   "execution_count": 17,
   "id": "fb02db0e",
   "metadata": {},
   "outputs": [
    {
     "data": {
      "image/png": "[encoded data removed]",
      "text/plain": [
       "<Figure size 432x288 with 2 Axes>"
      ]
     },
     "metadata": {
      "needs_background": "light"
     },
     "output_type": "display_data"
    }
   ],
   "source": [
    "import pandas as pd\n",
    "import seaborn as sn\n",
    "import matplotlib.pyplot as plt\n",
    "ax= plt.subplot()\n",
    "plt.style.use('seaborn-pastel')\n",
    "confusion_matrix = pd.crosstab(y_test,y_predL, rownames=['Actual'], colnames=['Predicted'])\n",
    "sn.heatmap(cm1, annot=True,fmt='g')\n",
    "ax.set_title('Confusion matrix - Logistic Regression', size=16)\n",
    "ax.set_xlabel('Predicted Labels', size=14)\n",
    "ax.set_ylabel('Actual Labels', size=14)\n",
    "plt.savefig('2-confusion matrix Logistic Regression.jpg',bbox_inches = 'tight',transparent=True)\n",
    "plt.show()\n",
    "\n"
   ]
  },
  {
   "cell_type": "code",
   "execution_count": 21,
   "id": "7a02f238",
   "metadata": {},
   "outputs": [
    {
     "name": "stdout",
     "output_type": "stream",
     "text": [
      "0.9249445242135492\n"
     ]
    },
    {
     "name": "stderr",
     "output_type": "stream",
     "text": [
      "C:\\Users\\hp pc\\AppData\\Local\\Temp\\ipykernel_15888\\3401845338.py:14: UserWarning: Legend does not support 0.9249445242135492 instances.\n",
      "A proxy artist may be used instead.\n",
      "See: https://matplotlib.org/users/legend_guide.html#creating-artists-specifically-for-adding-to-the-legend-aka-proxy-artists\n",
      "  plt.legend([auc],['roc_acu_score ='])\n"
     ]
    },
    {
     "data": {
      "image/png": "[encoded data removed]",
      "text/plain": [
       "<Figure size 432x288 with 1 Axes>"
      ]
     },
     "metadata": {
      "needs_background": "light"
     },
     "output_type": "display_data"
    }
   ],
   "source": [
    "from sklearn.metrics import roc_curve  \n",
    "from sklearn.metrics import roc_auc_score\n",
    "\n",
    "probs = model.predict_proba(X_test)  \n",
    "probs = probs[:, 1]  \n",
    "fper, tper, thresholds = roc_curve(y_test, probs) \n",
    "auc = roc_auc_score(y_test,probs)\n",
    "print(auc)\n",
    "plt.plot(fper, tper, color='orange', label='ROC')\n",
    "plt.plot([0, 1], [0, 1], color='darkblue', linestyle='--')\n",
    "plt.xlabel('False Positive Rate')\n",
    "plt.ylabel('True Positive Rate')\n",
    "plt.title('Receiver Operating Characteristic (ROC) Curve')\n",
    "plt.legend([auc],['roc_acu_score ='])\n",
    "plt.savefig('roc curve Logistic Regression.jpg',bbox_inches = 'tight',transparent=True)\n",
    "plt.show()"
   ]
  },
  {
   "cell_type": "code",
   "execution_count": null,
   "id": "6f07d20b",
   "metadata": {},
   "outputs": [],
   "source": []
  }
 ],
 "metadata": {
  "kernelspec": {
   "display_name": "Python 3 (ipykernel)",
   "language": "python",
   "name": "python3"
  },
  "language_info": {
   "codemirror_mode": {
    "name": "ipython",
    "version": 3
   },
   "file_extension": ".py",
   "mimetype": "text/x-python",
   "name": "python",
   "nbconvert_exporter": "python",
   "pygments_lexer": "ipython3",
   "version": "3.10.2"
  }
 },
 "nbformat": 4,
 "nbformat_minor": 5
}
